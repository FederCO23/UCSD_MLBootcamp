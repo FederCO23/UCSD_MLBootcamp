{
  "cells": [
    {
      "cell_type": "markdown",
      "source": [
        "# Mini Project: Flask for ML Tasks\n",
        "\n",
        "Flask is a micro web framework for Python that simplifies the process of building web applications. It's designed to be lightweight, flexible, and easy to use, making it a popular choice for developing web applications, APIs, and microservices. Flask doesn't impose a lot of constraints on how you structure your application, giving you the freedom to design your application as needed.\n",
        "\n",
        "Here's how Flask works and how it can be used for machine learning engineering:\n",
        "\n",
        "**1. Web Application Basics:**\n",
        "Flask allows you to define routes (URLs) and associate them with Python functions. When a user visits a specific URL, the associated function is executed, and you can return HTML, JSON, images, or any other type of data as a response. This makes it great for building dynamic and interactive web applications.\n",
        "\n",
        "**2. Integration with Machine Learning:**\n",
        "Flask can be incredibly useful in the context of machine learning engineering for a variety of purposes:\n",
        "\n",
        "- **Model Deployment:** Flask can be used to deploy machine learning models as APIs. Once your model is trained, you can create a Flask app that exposes the model through a web API. This enables other applications, platforms, or services to easily interact with and use your trained models for making predictions.\n",
        "\n",
        "- **Data Visualization:** You can use Flask to create interactive visualizations of data and model predictions. This is particularly useful when you want to provide users with a graphical representation of your machine learning insights.\n",
        "\n",
        "- **Custom Preprocessing:** If your machine learning model requires preprocessing steps before making predictions, Flask can be used to create an interface where users can input data, and your app preprocesses the data and feeds it to the model for prediction.\n",
        "\n",
        "- **User Interface:** Flask can help you create user-friendly interfaces for your machine learning models, allowing non-technical users to interact with and utilize your models without writing code.\n",
        "\n",
        "- **A/B Testing and Experimentation:** Flask apps can be used to deploy different versions of your models for A/B testing or experimentation, allowing you to compare the performance of different models and make data-driven decisions.\n",
        "\n",
        "**3. Real-world Example:**\n",
        "Imagine you've trained a sentiment analysis model, and you want to allow users to input text and get predictions about the sentiment of the text. You can create a Flask app that provides a simple web interface where users can type in their text, and the app sends the text to your sentiment analysis model and displays the result."
      ],
      "metadata": {
        "id": "yPbWViOfnJFg"
      }
    },
    {
      "cell_type": "markdown",
      "source": [
        "A typical Flask application follows a specific structure that helps organize your code, templates, static files, and other resources. This structure is designed to keep your codebase organized and maintainable as your application grows. The layout typically consists of several key components:\n",
        "\n",
        "1. **Main Application File (`app.py` or similar):**\n",
        "   This is the entry point of your Flask application. It contains the core configuration, route definitions, and application setup. You define the routes (URLs) your application will respond to, and associate each route with a Python function that handles the logic for that route.\n",
        "\n",
        "2. **Templates Folder (`templates/`):**\n",
        "   This folder contains your HTML templates. Flask uses a templating engine (Jinja2 by default) to generate dynamic HTML content. Templates allow you to separate the presentation (HTML) from the logic (Python) in your application, making your code more organized and maintainable. Templates can also include placeholders for dynamic data that Flask fills in when rendering the template.\n",
        "\n",
        "3. **Static Folder (`static/`):**\n",
        "   The `static` folder holds static assets like CSS files, JavaScript files, images, fonts, and other resources that are directly served to the user's browser. These assets are typically used to style and enhance the appearance of your web application. By separating static assets from dynamic content, you can optimize the performance of your application.\n",
        "\n",
        "4. **Other Application Files and Modules:**\n",
        "   Depending on the complexity of your application, you might create additional modules or packages to handle different aspects of your application, such as database interactions, machine learning model deployment, authentication, and more. These modules help keep your codebase modular and maintainable.\n",
        "\n",
        "Here's a simplified example of the structure of a Flask application:\n",
        "\n",
        "```\n",
        "my_flask_app/\n",
        "├── app.py\n",
        "├── templates/\n",
        "│   ├── index.html\n",
        "│   ├── result.html\n",
        "├── static/\n",
        "│   ├── styles.css\n",
        "│   ├── script.js\n",
        "└── other_modules/\n",
        "    ├── database.py\n",
        "    ├── ml_model.py\n",
        "```\n",
        "\n",
        "In this example:\n",
        "\n",
        "- `app.py` is the main application file where you define routes, configure the app, and handle requests.\n",
        "- The `templates` folder contains HTML templates that define the structure of your web pages.\n",
        "- The `static` folder holds static assets like CSS and JavaScript files.\n",
        "- The `other_modules` folder might contain additional modules or packages for handling specific tasks, like interacting with a database (`database.py`) or deploying a machine learning model (`ml_model.py`).\n",
        "\n",
        "The separation of static files and templates helps you maintain clean and organized code. Static assets are served directly to users, while templates are used to dynamically generate HTML pages. This structure facilitates collaboration among team members and makes it easier to understand, maintain, and extend your Flask application."
      ],
      "metadata": {
        "id": "yHTfSly5qyjK"
      }
    },
    {
      "cell_type": "markdown",
      "source": [
        "In this mini-project you'll be introduced to Flask by developing an application where your render a bar plot based on user-input data through an API. Note, colab is not a natural place for API development. Colab is mainly used here to be consistent with other mini-projects.\n",
        "\n",
        "As such, we'll need to leverage a tool called [ngrok](https://ngrok.com/). Ngrok is a tool that allows you to create secure tunnels from a public endpoint to a locally running web service or application. It enables you to expose your local server to the internet, making it accessible to others even if it's running on your own computer behind firewalls or NAT (Network Address Translation) devices. In this mini-project, we'll use ngrok to expose your colab instance to the wider internet. Again, you'd never use something like this for production.\n",
        "\n",
        "Go ahead and sign up for an ngrok account [here](https://ngrok.com/). It's free and useful for a wide variety of tasks."
      ],
      "metadata": {
        "id": "ckZ-l9RTr_Ef"
      }
    },
    {
      "cell_type": "code",
      "execution_count": 1,
      "metadata": {
        "id": "Bc5p2nJfsxer",
        "colab": {
          "base_uri": "https://localhost:8080/"
        },
        "outputId": "dbd2f597-5edd-4fa7-beb1-59eb653d9599"
      },
      "outputs": [
        {
          "output_type": "stream",
          "name": "stdout",
          "text": [
            "Requirement already satisfied: pyngrok in /usr/local/lib/python3.11/dist-packages (7.2.3)\n",
            "Requirement already satisfied: PyYAML>=5.1 in /usr/local/lib/python3.11/dist-packages (from pyngrok) (6.0.2)\n",
            "Requirement already satisfied: flask in /usr/local/lib/python3.11/dist-packages (3.1.0)\n",
            "Requirement already satisfied: Werkzeug>=3.1 in /usr/local/lib/python3.11/dist-packages (from flask) (3.1.3)\n",
            "Requirement already satisfied: Jinja2>=3.1.2 in /usr/local/lib/python3.11/dist-packages (from flask) (3.1.5)\n",
            "Requirement already satisfied: itsdangerous>=2.2 in /usr/local/lib/python3.11/dist-packages (from flask) (2.2.0)\n",
            "Requirement already satisfied: click>=8.1.3 in /usr/local/lib/python3.11/dist-packages (from flask) (8.1.8)\n",
            "Requirement already satisfied: blinker>=1.9 in /usr/local/lib/python3.11/dist-packages (from flask) (1.9.0)\n",
            "Requirement already satisfied: MarkupSafe>=2.0 in /usr/local/lib/python3.11/dist-packages (from Jinja2>=3.1.2->flask) (3.0.2)\n"
          ]
        }
      ],
      "source": [
        "!pip install pyngrok\n",
        "!pip install flask"
      ]
    },
    {
      "cell_type": "markdown",
      "source": [
        "Execute the cell below to authenticate to ngrok. Paste your authentication token after copying it from [https://dashboard.ngrok.com/auth](https://dashboard.ngrok.com/auth). This assumes you've already created an ngrok account.  "
      ],
      "metadata": {
        "id": "harGkq13JK9j"
      }
    },
    {
      "cell_type": "code",
      "execution_count": 2,
      "metadata": {
        "id": "t_CERy7auqz3",
        "colab": {
          "base_uri": "https://localhost:8080/"
        },
        "outputId": "18c37ff3-686c-47cb-f19a-b964f0b56adb"
      },
      "outputs": [
        {
          "name": "stdout",
          "output_type": "stream",
          "text": [
            "Enter your authtoken, which can be copied from https://dashboard.ngrok.com/auth\n",
            "··········\n"
          ]
        }
      ],
      "source": [
        "import getpass\n",
        "from pyngrok import ngrok, conf\n",
        "\n",
        "print(\"Enter your authtoken, which can be copied from https://dashboard.ngrok.com/auth\")\n",
        "conf.get_default().auth_token = getpass.getpass()"
      ]
    },
    {
      "cell_type": "markdown",
      "source": [
        "Time to create our Flask application. Here are your tasks:\n",
        "\n",
        "1. In your colab notebook create a new folder named `static`. In the folder create a file called `styles.css` and populate it with the following code:\n",
        "```css\n",
        ".chart-container {\n",
        "    width: 80%;\n",
        "    margin: 20px auto;\n",
        "}\n",
        "```\n",
        "This creates parameters for the bar chart we'll be creating. Note, the full directory of the file should be `/content/static/styles.css`.\n",
        "2. Create another folder named `templates`. Create a file called `index.html` and populate it with the following html code:\n",
        "```html\n",
        "<!DOCTYPE html>\n",
        "<html>\n",
        "<head>\n",
        "    <title>Data Visualization with Flask</title>\n",
        "    <link rel=\"stylesheet\" href=\"{{ url_for('static', filename='styles.css') }}\">\n",
        "</head>\n",
        "<body>\n",
        "    <h1>Data Visualization with Flask</h1>\n",
        "    <form method=\"POST\" action=\"/\">\n",
        "        <div>\n",
        "            <label for=\"categories\">Categories (comma-separated):</label>\n",
        "            <input type=\"text\" name=\"categories\" required>\n",
        "        </div>\n",
        "        <div>\n",
        "            <label for=\"values\">Values (comma-separated):</label>\n",
        "            <input type=\"text\" name=\"values\" required>\n",
        "        </div>\n",
        "        <button type=\"submit\">Generate Bar Chart</button>\n",
        "    </form>\n",
        "    <div class=\"chart-container\">\n",
        "        {% if chart_url %}\n",
        "            <img src=\"data:image/png;base64,{{ chart_url }}\" alt=\"Bar Chart\">\n",
        "        {% endif %}\n",
        "    </div>\n",
        "</body>\n",
        "</html>\n",
        "```\n",
        "Html is a pretty intuitive language to understand. Go through each line and make sure you understand what's happening. An extremely useful skill for an engineer is to be able to *understand* any kind of code, even if the engineer doesn't fully know how to write in the language."
      ],
      "metadata": {
        "id": "N3tXQyHOKORk"
      }
    },
    {
      "cell_type": "markdown",
      "source": [
        "1. Write a function called `generate_bar_chart` that takes a list of category names and respective values and generates a bar chart using [plt.bar](https://matplotlib.org/stable/api/_as_gen/matplotlib.pyplot.bar.html). In the function, return your barplot as a UTF-8 encoded string. It may be useful to create a BytesIO object using [io.BytesIO](https://docs.python.org/3/library/io.html#io.BytesIO) to store the barplot and then [base64.b64encode](https://docs.python.org/3/library/base64.html#base64.b64encode) to create the encoding.\n",
        "2. Now, you'll be filling in the `index` function that serves as the landing page for our application. If you're not too familiar with how HTTP works, read this quick primer [here](https://jaimelightfoot.com/blog/how-http-works/). From the form defined in `index.html`, extract the input for the `categories` field and store it in a list. Also, extract the input for the `values` field and store it in a list as well.\n",
        "3. Pass the two lists from the previous step to your function `generate_bar_chart`.\n",
        "4. The output of `generate_bar_chart` in the index function should then be passed to Flask's [render_template](https://flask.palletsprojects.com/en/2.3.x/api/#flask.render_template) and returned by the function.\n",
        "5. Execute the cell below with your code and click on the link output by \"ngrok tunnel\". This is the application landing page. See if everything works.\n",
        "6. Have fun with the application built here. See if you can extend it in some way. Make sure you understand how the python code interacts with the html template.\n",
        "\n",
        "**If you rerun the cell below and get a port issue, go ahead and restart the colab runtime environment and try again.**"
      ],
      "metadata": {
        "id": "GC7RCUTzMOVs"
      }
    },
    {
      "cell_type": "code",
      "source": [
        "from flask import Flask, render_template, request, send_file\n",
        "import threading\n",
        "import matplotlib.pyplot as plt\n",
        "import io\n",
        "import os\n",
        "import base64\n",
        "\n",
        "os.environ[\"FLASK_DEBUG\"] = \"development\"\n",
        "\n",
        "app = Flask(__name__)\n",
        "port = 5000\n",
        "\n",
        "# Open a ngrok tunnel to the HTTP server\n",
        "public_url = ngrok.connect(port).public_url\n",
        "print(\" * ngrok tunnel \\\"{}\\\" -> \\\"http://127.0.0.1:{}\\\"\".format(public_url, port))\n",
        "\n",
        "# Update any base URLs to use the public ngrok URL\n",
        "app.config[\"BASE_URL\"] = public_url\n",
        "\n",
        "def generate_bar_chart(categories, values, title=\"Bar Chart\", color='blue', return_as_base64=True):\n",
        "    # Write code here for a fuction that takes a list of category names and\n",
        "    # respective values and generates a bar chart using plt.bar. Return your\n",
        "    # barplot as a UTF-8 encoded string.\n",
        "\n",
        "    # First, create the bar chart\n",
        "    plt.figure(figsize=(8, 6))\n",
        "    plt.bar(categories, values, color=color)\n",
        "    plt.xlabel('Categories')\n",
        "    plt.ylabel('Values')\n",
        "    plt.title(title)\n",
        "    plt.tight_layout()\n",
        "\n",
        "    # Create a BytesIO object\n",
        "    buffer = io.BytesIO()\n",
        "\n",
        "    # Save the plot to the BytesIO buffer\n",
        "    plt.savefig(buffer, format='png')\n",
        "    plt.close()\n",
        "\n",
        "    # Encode the buffer's content as a base64 string\n",
        "    buffer.seek(0)  # Rewind the buffer to the beginning\n",
        "\n",
        "    if return_as_base64:\n",
        "      # Encode the buffer's content as a base64 string\n",
        "      image_base64 = base64.b64encode(buffer.getvalue()).decode('utf-8')\n",
        "      buffer.close()\n",
        "      return image_base64\n",
        "    else:\n",
        "      return buffer\n",
        "\n",
        "@app.route('/', methods=['GET', 'POST'])\n",
        "def index():\n",
        "    chart_url = None\n",
        "    error_message = None\n",
        "    # Initialize variables with default values\n",
        "    categories = []\n",
        "    values = []\n",
        "    chart_title = ''\n",
        "    bar_color = 'blue'\n",
        "\n",
        "    if request.method == 'POST':\n",
        "      # Extract categories and values from the request form and convert the string to a\n",
        "      # list.\n",
        "      categories = request.form.get('categories', '').strip()\n",
        "      values = request.form.get('values', '').strip()\n",
        "      chart_title = request.form.get('chart_title', '').strip()\n",
        "      bar_color = request.form.get('bar_color', 'blue').strip()\n",
        "\n",
        "      if not chart_title:\n",
        "        chart_title = \"Custom Bar Chart\"\n",
        "\n",
        "      # Input Validation (added)\n",
        "      if not categories or not values:\n",
        "        error_message = \"Both categories and values are required.\"\n",
        "      else:\n",
        "        categories = [cat.strip() for cat in categories.split(',')]\n",
        "        try:\n",
        "          values = [int(val.strip()) for val in values.split(',')]\n",
        "          if len(categories) != len(values):\n",
        "            error_message = \"The number of categories must match the number of values.\"\n",
        "        except ValueError:\n",
        "          error_message = \"Values must be integers.\"\n",
        "\n",
        "      if not error_message:\n",
        "        # Generate chart as a Base64-encoded string for embedding\n",
        "        chart_url = generate_bar_chart(categories, values, chart_title, bar_color, return_as_base64=True)\n",
        "\n",
        "    # Return a render_template function, passing your bar plot as input.\n",
        "    return render_template(\n",
        "        'index.html',\n",
        "        chart_url=chart_url,\n",
        "        error_message=error_message,\n",
        "        chart_title=chart_title,\n",
        "        categories=','.join(categories) if categories else '',\n",
        "        values=','.join(map(str, values)) if values else '',\n",
        "        bar_color=bar_color\n",
        "        )\n",
        "\n",
        "@app.route('/download', methods=['GET'])\n",
        "def download_chart():\n",
        "    categories = request.args.get('categories', '').split(',')\n",
        "    values = request.args.get('values', '').split(',')\n",
        "    chart_title = request.args.get('chart_title', 'Custom Bar Chart')\n",
        "    bar_color = request.args.get('bar_color', 'blue')\n",
        "\n",
        "    try:\n",
        "        values = [int(value.strip()) for value in values]\n",
        "    except ValueError:\n",
        "        return \"Error: Values must be integers.\", 400\n",
        "\n",
        "    if len(categories) != len(values):\n",
        "        return \"Error: The number of categories must match the number of values.\", 400\n",
        "\n",
        "    buffer = generate_bar_chart(categories, values, chart_title, bar_color, return_as_base64=False)\n",
        "    return send_file(\n",
        "        buffer,\n",
        "        mimetype='image/png',\n",
        "        as_attachment=True,\n",
        "        download_name='bar_chart.png'\n",
        "    )\n",
        "\n",
        "if __name__ == '__main__':\n",
        "  # Start the Flask server in a new thread\n",
        "  threading.Thread(target=app.run, kwargs={\"use_reloader\": False}).start()"
      ],
      "metadata": {
        "id": "TvtkyveVy1No",
        "colab": {
          "base_uri": "https://localhost:8080/"
        },
        "outputId": "1a337b43-88bc-4cbd-bafe-aa5e8c68ceeb"
      },
      "execution_count": 3,
      "outputs": [
        {
          "output_type": "stream",
          "name": "stdout",
          "text": [
            " * ngrok tunnel \"https://5752-35-223-166-236.ngrok-free.app\" -> \"http://127.0.0.1:5000\"\n",
            " * Serving Flask app '__main__'\n",
            " * Debug mode: on\n"
          ]
        },
        {
          "output_type": "stream",
          "name": "stderr",
          "text": [
            "INFO:werkzeug:\u001b[31m\u001b[1mWARNING: This is a development server. Do not use it in a production deployment. Use a production WSGI server instead.\u001b[0m\n",
            " * Running on http://127.0.0.1:5000\n",
            "INFO:werkzeug:\u001b[33mPress CTRL+C to quit\u001b[0m\n"
          ]
        }
      ]
    },
    {
      "cell_type": "code",
      "source": [
        "# \\!/ Run this code if you need to reset the ngrok tunnels:\n",
        "# Close all active tunnels\n",
        "ngrok.kill()\n",
        "\n",
        "# Reopen a new tunnel\n",
        "public_url = ngrok.connect(5000)\n",
        "print(f\"New ngrok URL: {public_url}\")"
      ],
      "metadata": {
        "colab": {
          "base_uri": "https://localhost:8080/"
        },
        "id": "ytmOD-Dr75tc",
        "outputId": "2b09ea85-d9b3-42a6-d719-18153b477662"
      },
      "execution_count": 3,
      "outputs": [
        {
          "output_type": "stream",
          "name": "stdout",
          "text": [
            "New ngrok URL: NgrokTunnel: \"https://72c1-35-223-166-236.ngrok-free.app\" -> \"http://localhost:5000\"\n"
          ]
        }
      ]
    },
    {
      "cell_type": "markdown",
      "source": [
        "As part of task 6, we implemented additional functionalities to explore the Flask framework in depth:\n",
        "\n",
        "Added Features:\n",
        "\n",
        "1- Input Validation:\n",
        "  Ensures that:\n",
        "  - Categories are not empty.\n",
        "  - Values contain valid integers.\n",
        "  - The number of categories matches the number of values.\n",
        "\n",
        "2- Custom Chart Styles:\n",
        "  Users can now:\n",
        "  - Enter a custom chart title.\n",
        "  - Choose the bar color from a dropdown menu.\n",
        "\n",
        "3- Download the Chart:\n",
        "  - A new \"Download the Chart\" button was added.\n",
        "  - This feature uses the `GET` method to allow users to download the generated chart as an image.\n",
        "\n"
      ],
      "metadata": {
        "id": "YheVxWSlyRVd"
      }
    },
    {
      "cell_type": "markdown",
      "source": [
        "### This is the updated `index.html` version:\n",
        "\n",
        "```html\n",
        "<!DOCTYPE html>\n",
        "<html>\n",
        "<head>\n",
        "    <title>Data Visualization with Flask</title>\n",
        "    <link rel=\"stylesheet\" href=\"{{ url_for('static', filename='styles.css') }}\">\n",
        "</head>\n",
        "<body>\n",
        "    <h1>Data Visualization with Flask</h1>\n",
        "    <form method=\"POST\" action=\"/\">\n",
        "        <div>\n",
        "            <label for=\"chart_title\">Chart Title:</label>\n",
        "            <input type=\"text\" name=\"chart_title\" placeholder=\"Enter chart title\" required>\n",
        "        </div>\n",
        "        <div>\n",
        "            <label for=\"categories\">Categories (comma-separated):</label>\n",
        "            <input type=\"text\" name=\"categories\" required>\n",
        "        </div>\n",
        "        <div>\n",
        "            <label for=\"values\">Values (comma-separated):</label>\n",
        "            <input type=\"text\" name=\"values\" required>\n",
        "        </div>\n",
        "        <div>\n",
        "            <label for=\"bar_color\">Bar Color:</label>\n",
        "            <select name=\"bar_color\">\n",
        "                <option value=\"blue\">Blue</option>\n",
        "                <option value=\"green\">Green</option>\n",
        "                <option value=\"red\">Red</option>\n",
        "                <option value=\"orange\">Orange</option>\n",
        "            </select>\n",
        "        </div>\n",
        "        <button type=\"submit\">Generate Bar Chart</button>\n",
        "    </form>\n",
        "    <div class=\"chart-container\">\n",
        "        {% if chart_url %}\n",
        "            <img src=\"data:image/png;base64,{{ chart_url }}\" alt=\"Bar Chart\">\n",
        "        {% endif %}\n",
        "        {% if error_message %}\n",
        "            <div style=\"color: red;\">{{ error_message }}</div>\n",
        "        {% endif %}\n",
        "    </div>\n",
        "</body>\n",
        "</html>\n",
        "```"
      ],
      "metadata": {
        "id": "CImG_Udr5c3I"
      }
    },
    {
      "cell_type": "markdown",
      "source": [
        "Finally, here is a screenshot of the customized form with the latest adaptations."
      ],
      "metadata": {
        "id": "62aWX3qVKwun"
      }
    },
    {
      "cell_type": "markdown",
      "source": [
        "\n",
        "![Result Image](https://drive.google.com/uc?id=1keDKBUdtL5zX1fCgJ8GdR1-BZneLTD24)\n"
      ],
      "metadata": {
        "id": "kNwEhLrHLGRA"
      }
    },
    {
      "cell_type": "code",
      "source": [],
      "metadata": {
        "id": "jyLJVoZAM3Ls"
      },
      "execution_count": null,
      "outputs": []
    }
  ],
  "metadata": {
    "colab": {
      "provenance": []
    },
    "kernelspec": {
      "display_name": "Python 3",
      "name": "python3"
    },
    "language_info": {
      "name": "python"
    }
  },
  "nbformat": 4,
  "nbformat_minor": 0
}