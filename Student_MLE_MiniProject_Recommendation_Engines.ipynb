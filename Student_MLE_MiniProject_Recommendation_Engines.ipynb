{
 "cells": [
  {
   "cell_type": "markdown",
   "metadata": {
    "id": "fyXucUekO19i"
   },
   "source": [
    "# Mini Project: Recommendation Engines\n",
    "\n",
    "Recommendation engines are algorithms designed to provide personalized suggestions or recommendations to users. These systems analyze user behavior, preferences, and interactions with items (products, movies, music, articles, etc.) to predict and offer items that users are likely to be interested in. Recommendation engines play a crucial role in enhancing user experience, driving engagement, and increasing conversion rates in various applications, including e-commerce, entertainment, content platforms, and more.\n",
    "\n",
    "There are generally two approaches taken in collaborative filtering and content-based recommendation engines:\n",
    "\n",
    "**1. Collaborative Filtering:**\n",
    "Collaborative Filtering is a popular approach to building recommendation systems that leverages the collective behavior of users to make personalized recommendations. It is based on the idea that users who have agreed in the past will likely agree in the future. There are two main types of collaborative filtering:\n",
    "\n",
    "- **User-based Collaborative Filtering:** This method finds users similar to the target user based on their past interactions (e.g., ratings or purchases). It then recommends items that similar users have liked but the target user has not interacted with yet.\n",
    "\n",
    "- **Item-based Collaborative Filtering:** In this approach, the system identifies similar items based on user interactions. It recommends items that are similar to the ones the target user has already liked or interacted with.\n",
    "\n",
    "Collaborative filtering does not require any explicit information about items but relies on the similarity between users or items. It is effective in capturing complex patterns and can provide serendipitous recommendations. However, it suffers from the cold-start problem (i.e., difficulty in recommending to new users or items with no interactions) and scalability challenges in large datasets.\n",
    "\n",
    "**2. Content-Based Recommendation:**\n",
    "Content-based recommendation is an alternative approach to building recommendation systems that focuses on the attributes or features of items and users. It leverages the characteristics of items to make recommendations. The key steps involved in content-based recommendation are:\n",
    "\n",
    "- **Feature Extraction:** For each item, relevant features are extracted. For movies, these features could be genre, director, actors, and plot summary.\n",
    "\n",
    "- **User Profile:** A user profile is created based on the items they have interacted with in the past. The user profile contains the weighted importance of features based on their interactions.\n",
    "\n",
    "- **Similarity Calculation:** The similarity between items or between items and the user profile is calculated using similarity metrics like cosine similarity or Euclidean distance.\n",
    "\n",
    "- **Recommendation:** Items that are most similar to the user profile are recommended to the user.\n",
    "\n",
    "Content-based recommendation systems are less affected by the cold-start problem as they can still recommend items based on their features. They are also more interpretable as they rely on item attributes. However, they may miss out on providing serendipitous recommendations and can be limited by the quality of feature extraction and user profiles.\n",
    "\n",
    "**Choosing Between Collaborative Filtering and Content-Based:**\n",
    "Both collaborative filtering and content-based approaches have their strengths and weaknesses. The choice between them depends on the specific requirements of the recommendation system, the type of data available, and the user base. Hybrid approaches that combine collaborative filtering and content-based techniques are also common, aiming to leverage the strengths of both methods and mitigate their weaknesses."
   ]
  },
  {
   "cell_type": "markdown",
   "metadata": {
    "id": "TYuE9O6I2uRY"
   },
   "source": [
    "In this mini-project, you'll be building both content based and collaborative filtering engines for the [MovieLens 25M dataset](https://grouplens.org/datasets/movielens/25m/). The MovieLens 25M dataset is one of the most widely used and popular datasets for building and evaluating recommendation systems. It is provided by the GroupLens Research project, which collects and studies datasets related to movie ratings and recommendations. The MovieLens 25M dataset contains movie ratings and other related information contributed by users of the MovieLens website.\n",
    "\n",
    "**Dataset Details:**\n",
    "- **Size:** The dataset contains approximately 25 million movie ratings.\n",
    "- **Users:** It includes ratings from over 162,000 users.\n",
    "- **Movies:** The dataset consists of ratings for more than 62,000 movies.\n",
    "- **Ratings:** The ratings are provided on a scale of 1 to 5, where 1 is the lowest rating and 5 is the highest.\n",
    "- **Timestamps:** Each rating is associated with a timestamp, indicating when the rating was given.\n",
    "\n",
    "**Data Files:**\n",
    "The dataset is usually split into three CSV files:\n",
    "\n",
    "1. **movies.csv:** Contains information about movies, including the movie ID, title, genres, and release year.\n",
    "   - Columns: movieId, title, genres\n",
    "\n",
    "2. **ratings.csv:** Contains movie ratings provided by users, including the user ID, movie ID, rating, and timestamp.\n",
    "   - Columns: userId, movieId, rating, timestamp\n",
    "\n",
    "3. **tags.csv:** Contains user-generated tags for movies, including the user ID, movie ID, tag, and timestamp.\n",
    "   - Columns: userId, movieId, tag, timestamp"
   ]
  },
  {
   "cell_type": "markdown",
   "metadata": {
    "id": "DN0qzP-cRlMo"
   },
   "source": [
    "First, import all the libraries you'll need."
   ]
  },
  {
   "cell_type": "code",
   "execution_count": 4,
   "metadata": {
    "id": "kLWR1DfQPakn"
   },
   "outputs": [],
   "source": [
    "import zipfile\n",
    "import numpy as np\n",
    "import pandas as pd\n",
    "from urllib.request import urlretrieve\n",
    "from sklearn.metrics.pairwise import cosine_similarity"
   ]
  },
  {
   "cell_type": "markdown",
   "metadata": {
    "id": "iaG6vAKyREej"
   },
   "source": [
    "Next, download the relevant components of the MoveLens dataset. Note, these instructions are roughly based on the colab [here](https://colab.research.google.com/github/google/eng-edu/blob/main/ml/recommendation-systems/recommendation-systems.ipynb?utm_source=ss-recommendation-systems&utm_campaign=colab-external&utm_medium=referral&utm_content=recommendation-systems#scrollTo=O3bcgduFo4s6)."
   ]
  },
  {
   "cell_type": "code",
   "execution_count": 7,
   "metadata": {
    "colab": {
     "base_uri": "https://localhost:8080/"
    },
    "id": "-wCvx2ukPm-3",
    "outputId": "8b717b10-f2ac-4f59-9299-8a3c9b267584"
   },
   "outputs": [
    {
     "name": "stdout",
     "output_type": "stream",
     "text": [
      "Downloading movielens data...\n",
      "Done. Dataset contains:\n",
      "b'943 users\\n1682 items\\n100000 ratings\\n'\n"
     ]
    }
   ],
   "source": [
    "print(\"Downloading movielens data...\")\n",
    "\n",
    "urlretrieve('http://files.grouplens.org/datasets/movielens/ml-100k.zip', 'movielens.zip')\n",
    "zip_ref = zipfile.ZipFile('movielens.zip', 'r')\n",
    "zip_ref.extractall()\n",
    "print(\"Done. Dataset contains:\")\n",
    "print(zip_ref.read('ml-100k/u.info'))\n",
    "\n",
    "ratings_cols = ['user_id', 'movie_id', 'rating', 'unix_timestamp']\n",
    "ratings = pd.read_csv(\n",
    "    'ml-100k/u.data', sep='\\t', names=ratings_cols, encoding='latin-1')\n",
    "\n",
    "# The movies file contains a binary feature for each genre.\n",
    "genre_cols = [\n",
    "    \"genre_unknown\", \"Action\", \"Adventure\", \"Animation\", \"Children\", \"Comedy\",\n",
    "    \"Crime\", \"Documentary\", \"Drama\", \"Fantasy\", \"Film-Noir\", \"Horror\",\n",
    "    \"Musical\", \"Mystery\", \"Romance\", \"Sci-Fi\", \"Thriller\", \"War\", \"Western\"\n",
    "]\n",
    "movies_cols = [\n",
    "    'movie_id', 'title', 'release_date', \"video_release_date\", \"imdb_url\"\n",
    "] + genre_cols\n",
    "movies = pd.read_csv(\n",
    "    'ml-100k/u.item', sep='|', names=movies_cols, encoding='latin-1')"
   ]
  },
  {
   "cell_type": "code",
   "execution_count": 9,
   "metadata": {
    "id": "ONPB0g89tzBs"
   },
   "outputs": [],
   "source": [
    "ratings.to_csv('ratings.csv', sep=',', index=True, header=True)\n",
    "movies.to_csv('movies.csv', sep=',', index=True, header=True)"
   ]
  },
  {
   "cell_type": "markdown",
   "metadata": {
    "id": "pLAMVhnbR-Cy"
   },
   "source": [
    "Before doing any kind of machine learning, it's always good to familiarize yourself with the datasets you'lll be working with.\n",
    "\n",
    "Here are your tasks:\n",
    "\n",
    "1. Spend some time familiarizing yourself with both the `movies` and `ratings` dataframes. How many unique user ids are present? How many unique movies are there?\n",
    "2. Create a new dataframe that merges the `movies` and `ratings` tables on 'movie_id'. Only keep the 'user_id', 'title', 'rating' fields in this new dataframe."
   ]
  },
  {
   "cell_type": "code",
   "execution_count": 12,
   "metadata": {
    "colab": {
     "base_uri": "https://localhost:8080/",
     "height": 256
    },
    "id": "vp7Tx7H_P5f2",
    "outputId": "d6bd2213-cfe6-4372-9289-04e5b4fd8e94"
   },
   "outputs": [
    {
     "data": {
      "text/html": [
       "<div>\n",
       "<style scoped>\n",
       "    .dataframe tbody tr th:only-of-type {\n",
       "        vertical-align: middle;\n",
       "    }\n",
       "\n",
       "    .dataframe tbody tr th {\n",
       "        vertical-align: top;\n",
       "    }\n",
       "\n",
       "    .dataframe thead th {\n",
       "        text-align: right;\n",
       "    }\n",
       "</style>\n",
       "<table border=\"1\" class=\"dataframe\">\n",
       "  <thead>\n",
       "    <tr style=\"text-align: right;\">\n",
       "      <th></th>\n",
       "      <th>movie_id</th>\n",
       "      <th>title</th>\n",
       "      <th>release_date</th>\n",
       "      <th>video_release_date</th>\n",
       "      <th>imdb_url</th>\n",
       "      <th>genre_unknown</th>\n",
       "      <th>Action</th>\n",
       "      <th>Adventure</th>\n",
       "      <th>Animation</th>\n",
       "      <th>Children</th>\n",
       "      <th>...</th>\n",
       "      <th>Fantasy</th>\n",
       "      <th>Film-Noir</th>\n",
       "      <th>Horror</th>\n",
       "      <th>Musical</th>\n",
       "      <th>Mystery</th>\n",
       "      <th>Romance</th>\n",
       "      <th>Sci-Fi</th>\n",
       "      <th>Thriller</th>\n",
       "      <th>War</th>\n",
       "      <th>Western</th>\n",
       "    </tr>\n",
       "  </thead>\n",
       "  <tbody>\n",
       "    <tr>\n",
       "      <th>0</th>\n",
       "      <td>1</td>\n",
       "      <td>Toy Story (1995)</td>\n",
       "      <td>01-Jan-1995</td>\n",
       "      <td>NaN</td>\n",
       "      <td>http://us.imdb.com/M/title-exact?Toy%20Story%2...</td>\n",
       "      <td>0</td>\n",
       "      <td>0</td>\n",
       "      <td>0</td>\n",
       "      <td>1</td>\n",
       "      <td>1</td>\n",
       "      <td>...</td>\n",
       "      <td>0</td>\n",
       "      <td>0</td>\n",
       "      <td>0</td>\n",
       "      <td>0</td>\n",
       "      <td>0</td>\n",
       "      <td>0</td>\n",
       "      <td>0</td>\n",
       "      <td>0</td>\n",
       "      <td>0</td>\n",
       "      <td>0</td>\n",
       "    </tr>\n",
       "    <tr>\n",
       "      <th>1</th>\n",
       "      <td>2</td>\n",
       "      <td>GoldenEye (1995)</td>\n",
       "      <td>01-Jan-1995</td>\n",
       "      <td>NaN</td>\n",
       "      <td>http://us.imdb.com/M/title-exact?GoldenEye%20(...</td>\n",
       "      <td>0</td>\n",
       "      <td>1</td>\n",
       "      <td>1</td>\n",
       "      <td>0</td>\n",
       "      <td>0</td>\n",
       "      <td>...</td>\n",
       "      <td>0</td>\n",
       "      <td>0</td>\n",
       "      <td>0</td>\n",
       "      <td>0</td>\n",
       "      <td>0</td>\n",
       "      <td>0</td>\n",
       "      <td>0</td>\n",
       "      <td>1</td>\n",
       "      <td>0</td>\n",
       "      <td>0</td>\n",
       "    </tr>\n",
       "    <tr>\n",
       "      <th>2</th>\n",
       "      <td>3</td>\n",
       "      <td>Four Rooms (1995)</td>\n",
       "      <td>01-Jan-1995</td>\n",
       "      <td>NaN</td>\n",
       "      <td>http://us.imdb.com/M/title-exact?Four%20Rooms%...</td>\n",
       "      <td>0</td>\n",
       "      <td>0</td>\n",
       "      <td>0</td>\n",
       "      <td>0</td>\n",
       "      <td>0</td>\n",
       "      <td>...</td>\n",
       "      <td>0</td>\n",
       "      <td>0</td>\n",
       "      <td>0</td>\n",
       "      <td>0</td>\n",
       "      <td>0</td>\n",
       "      <td>0</td>\n",
       "      <td>0</td>\n",
       "      <td>1</td>\n",
       "      <td>0</td>\n",
       "      <td>0</td>\n",
       "    </tr>\n",
       "    <tr>\n",
       "      <th>3</th>\n",
       "      <td>4</td>\n",
       "      <td>Get Shorty (1995)</td>\n",
       "      <td>01-Jan-1995</td>\n",
       "      <td>NaN</td>\n",
       "      <td>http://us.imdb.com/M/title-exact?Get%20Shorty%...</td>\n",
       "      <td>0</td>\n",
       "      <td>1</td>\n",
       "      <td>0</td>\n",
       "      <td>0</td>\n",
       "      <td>0</td>\n",
       "      <td>...</td>\n",
       "      <td>0</td>\n",
       "      <td>0</td>\n",
       "      <td>0</td>\n",
       "      <td>0</td>\n",
       "      <td>0</td>\n",
       "      <td>0</td>\n",
       "      <td>0</td>\n",
       "      <td>0</td>\n",
       "      <td>0</td>\n",
       "      <td>0</td>\n",
       "    </tr>\n",
       "    <tr>\n",
       "      <th>4</th>\n",
       "      <td>5</td>\n",
       "      <td>Copycat (1995)</td>\n",
       "      <td>01-Jan-1995</td>\n",
       "      <td>NaN</td>\n",
       "      <td>http://us.imdb.com/M/title-exact?Copycat%20(1995)</td>\n",
       "      <td>0</td>\n",
       "      <td>0</td>\n",
       "      <td>0</td>\n",
       "      <td>0</td>\n",
       "      <td>0</td>\n",
       "      <td>...</td>\n",
       "      <td>0</td>\n",
       "      <td>0</td>\n",
       "      <td>0</td>\n",
       "      <td>0</td>\n",
       "      <td>0</td>\n",
       "      <td>0</td>\n",
       "      <td>0</td>\n",
       "      <td>1</td>\n",
       "      <td>0</td>\n",
       "      <td>0</td>\n",
       "    </tr>\n",
       "  </tbody>\n",
       "</table>\n",
       "<p>5 rows × 24 columns</p>\n",
       "</div>"
      ],
      "text/plain": [
       "   movie_id              title release_date  video_release_date  \\\n",
       "0         1   Toy Story (1995)  01-Jan-1995                 NaN   \n",
       "1         2   GoldenEye (1995)  01-Jan-1995                 NaN   \n",
       "2         3  Four Rooms (1995)  01-Jan-1995                 NaN   \n",
       "3         4  Get Shorty (1995)  01-Jan-1995                 NaN   \n",
       "4         5     Copycat (1995)  01-Jan-1995                 NaN   \n",
       "\n",
       "                                            imdb_url  genre_unknown  Action  \\\n",
       "0  http://us.imdb.com/M/title-exact?Toy%20Story%2...              0       0   \n",
       "1  http://us.imdb.com/M/title-exact?GoldenEye%20(...              0       1   \n",
       "2  http://us.imdb.com/M/title-exact?Four%20Rooms%...              0       0   \n",
       "3  http://us.imdb.com/M/title-exact?Get%20Shorty%...              0       1   \n",
       "4  http://us.imdb.com/M/title-exact?Copycat%20(1995)              0       0   \n",
       "\n",
       "   Adventure  Animation  Children  ...  Fantasy  Film-Noir  Horror  Musical  \\\n",
       "0          0          1         1  ...        0          0       0        0   \n",
       "1          1          0         0  ...        0          0       0        0   \n",
       "2          0          0         0  ...        0          0       0        0   \n",
       "3          0          0         0  ...        0          0       0        0   \n",
       "4          0          0         0  ...        0          0       0        0   \n",
       "\n",
       "   Mystery  Romance  Sci-Fi  Thriller  War  Western  \n",
       "0        0        0       0         0    0        0  \n",
       "1        0        0       0         1    0        0  \n",
       "2        0        0       0         1    0        0  \n",
       "3        0        0       0         0    0        0  \n",
       "4        0        0       0         1    0        0  \n",
       "\n",
       "[5 rows x 24 columns]"
      ]
     },
     "execution_count": 12,
     "metadata": {},
     "output_type": "execute_result"
    }
   ],
   "source": [
    "# Spend some time familiarizing yourself with both the movies and ratings\n",
    "# dataframes.\n",
    "movies.head()"
   ]
  },
  {
   "cell_type": "code",
   "execution_count": 14,
   "metadata": {
    "colab": {
     "base_uri": "https://localhost:8080/"
    },
    "id": "jBkdIC6mrzXv",
    "outputId": "f9bec43e-dc28-4307-a07e-75a5fd2f251d"
   },
   "outputs": [
    {
     "name": "stdout",
     "output_type": "stream",
     "text": [
      "<class 'pandas.core.frame.DataFrame'>\n",
      "RangeIndex: 1682 entries, 0 to 1681\n",
      "Data columns (total 24 columns):\n",
      " #   Column              Non-Null Count  Dtype  \n",
      "---  ------              --------------  -----  \n",
      " 0   movie_id            1682 non-null   int64  \n",
      " 1   title               1682 non-null   object \n",
      " 2   release_date        1681 non-null   object \n",
      " 3   video_release_date  0 non-null      float64\n",
      " 4   imdb_url            1679 non-null   object \n",
      " 5   genre_unknown       1682 non-null   int64  \n",
      " 6   Action              1682 non-null   int64  \n",
      " 7   Adventure           1682 non-null   int64  \n",
      " 8   Animation           1682 non-null   int64  \n",
      " 9   Children            1682 non-null   int64  \n",
      " 10  Comedy              1682 non-null   int64  \n",
      " 11  Crime               1682 non-null   int64  \n",
      " 12  Documentary         1682 non-null   int64  \n",
      " 13  Drama               1682 non-null   int64  \n",
      " 14  Fantasy             1682 non-null   int64  \n",
      " 15  Film-Noir           1682 non-null   int64  \n",
      " 16  Horror              1682 non-null   int64  \n",
      " 17  Musical             1682 non-null   int64  \n",
      " 18  Mystery             1682 non-null   int64  \n",
      " 19  Romance             1682 non-null   int64  \n",
      " 20  Sci-Fi              1682 non-null   int64  \n",
      " 21  Thriller            1682 non-null   int64  \n",
      " 22  War                 1682 non-null   int64  \n",
      " 23  Western             1682 non-null   int64  \n",
      "dtypes: float64(1), int64(20), object(3)\n",
      "memory usage: 315.5+ KB\n"
     ]
    }
   ],
   "source": [
    "movies.info()"
   ]
  },
  {
   "cell_type": "code",
   "execution_count": 16,
   "metadata": {
    "colab": {
     "base_uri": "https://localhost:8080/",
     "height": 226
    },
    "id": "LnUwsOFZsDVR",
    "outputId": "a53415cd-893c-42e9-fe97-d720cfc31cb8"
   },
   "outputs": [
    {
     "data": {
      "text/html": [
       "<div>\n",
       "<style scoped>\n",
       "    .dataframe tbody tr th:only-of-type {\n",
       "        vertical-align: middle;\n",
       "    }\n",
       "\n",
       "    .dataframe tbody tr th {\n",
       "        vertical-align: top;\n",
       "    }\n",
       "\n",
       "    .dataframe thead th {\n",
       "        text-align: right;\n",
       "    }\n",
       "</style>\n",
       "<table border=\"1\" class=\"dataframe\">\n",
       "  <thead>\n",
       "    <tr style=\"text-align: right;\">\n",
       "      <th></th>\n",
       "      <th>user_id</th>\n",
       "      <th>movie_id</th>\n",
       "      <th>rating</th>\n",
       "      <th>unix_timestamp</th>\n",
       "    </tr>\n",
       "  </thead>\n",
       "  <tbody>\n",
       "    <tr>\n",
       "      <th>0</th>\n",
       "      <td>196</td>\n",
       "      <td>242</td>\n",
       "      <td>3</td>\n",
       "      <td>881250949</td>\n",
       "    </tr>\n",
       "    <tr>\n",
       "      <th>1</th>\n",
       "      <td>186</td>\n",
       "      <td>302</td>\n",
       "      <td>3</td>\n",
       "      <td>891717742</td>\n",
       "    </tr>\n",
       "    <tr>\n",
       "      <th>2</th>\n",
       "      <td>22</td>\n",
       "      <td>377</td>\n",
       "      <td>1</td>\n",
       "      <td>878887116</td>\n",
       "    </tr>\n",
       "    <tr>\n",
       "      <th>3</th>\n",
       "      <td>244</td>\n",
       "      <td>51</td>\n",
       "      <td>2</td>\n",
       "      <td>880606923</td>\n",
       "    </tr>\n",
       "    <tr>\n",
       "      <th>4</th>\n",
       "      <td>166</td>\n",
       "      <td>346</td>\n",
       "      <td>1</td>\n",
       "      <td>886397596</td>\n",
       "    </tr>\n",
       "  </tbody>\n",
       "</table>\n",
       "</div>"
      ],
      "text/plain": [
       "   user_id  movie_id  rating  unix_timestamp\n",
       "0      196       242       3       881250949\n",
       "1      186       302       3       891717742\n",
       "2       22       377       1       878887116\n",
       "3      244        51       2       880606923\n",
       "4      166       346       1       886397596"
      ]
     },
     "execution_count": 16,
     "metadata": {},
     "output_type": "execute_result"
    }
   ],
   "source": [
    "ratings.head()"
   ]
  },
  {
   "cell_type": "code",
   "execution_count": 18,
   "metadata": {
    "colab": {
     "base_uri": "https://localhost:8080/"
    },
    "id": "Z24O3VcSsHeH",
    "outputId": "14a81ec8-11de-42ad-ddde-10aa8b94271c"
   },
   "outputs": [
    {
     "name": "stdout",
     "output_type": "stream",
     "text": [
      "<class 'pandas.core.frame.DataFrame'>\n",
      "RangeIndex: 100000 entries, 0 to 99999\n",
      "Data columns (total 4 columns):\n",
      " #   Column          Non-Null Count   Dtype\n",
      "---  ------          --------------   -----\n",
      " 0   user_id         100000 non-null  int64\n",
      " 1   movie_id        100000 non-null  int64\n",
      " 2   rating          100000 non-null  int64\n",
      " 3   unix_timestamp  100000 non-null  int64\n",
      "dtypes: int64(4)\n",
      "memory usage: 3.1 MB\n"
     ]
    }
   ],
   "source": [
    "ratings.info()"
   ]
  },
  {
   "cell_type": "code",
   "execution_count": 20,
   "metadata": {
    "colab": {
     "base_uri": "https://localhost:8080/"
    },
    "id": "9409OTfLspvW",
    "outputId": "503aca09-c02c-4611-de5b-cb3ae553a0c2"
   },
   "outputs": [
    {
     "name": "stdout",
     "output_type": "stream",
     "text": [
      "Number of unique user ids:\t943\n",
      "Number of unique movies:\t1682\n"
     ]
    }
   ],
   "source": [
    "# How many unique user ids are present? How many unique movies are there?\n",
    "print(f'Number of unique user ids:\\t{ratings[\"user_id\"].nunique()}')\n",
    "print(f'Number of unique movies:\\t{ratings[\"movie_id\"].nunique()}')"
   ]
  },
  {
   "cell_type": "code",
   "execution_count": 22,
   "metadata": {
    "colab": {
     "base_uri": "https://localhost:8080/",
     "height": 226
    },
    "id": "f6MrymMJRMjB",
    "outputId": "33e7ee29-2dea-4b25-87d0-c4f25736e455"
   },
   "outputs": [
    {
     "data": {
      "text/html": [
       "<div>\n",
       "<style scoped>\n",
       "    .dataframe tbody tr th:only-of-type {\n",
       "        vertical-align: middle;\n",
       "    }\n",
       "\n",
       "    .dataframe tbody tr th {\n",
       "        vertical-align: top;\n",
       "    }\n",
       "\n",
       "    .dataframe thead th {\n",
       "        text-align: right;\n",
       "    }\n",
       "</style>\n",
       "<table border=\"1\" class=\"dataframe\">\n",
       "  <thead>\n",
       "    <tr style=\"text-align: right;\">\n",
       "      <th></th>\n",
       "      <th>user_id</th>\n",
       "      <th>title</th>\n",
       "      <th>rating</th>\n",
       "    </tr>\n",
       "  </thead>\n",
       "  <tbody>\n",
       "    <tr>\n",
       "      <th>0</th>\n",
       "      <td>196</td>\n",
       "      <td>Kolya (1996)</td>\n",
       "      <td>3</td>\n",
       "    </tr>\n",
       "    <tr>\n",
       "      <th>1</th>\n",
       "      <td>63</td>\n",
       "      <td>Kolya (1996)</td>\n",
       "      <td>3</td>\n",
       "    </tr>\n",
       "    <tr>\n",
       "      <th>2</th>\n",
       "      <td>226</td>\n",
       "      <td>Kolya (1996)</td>\n",
       "      <td>5</td>\n",
       "    </tr>\n",
       "    <tr>\n",
       "      <th>3</th>\n",
       "      <td>154</td>\n",
       "      <td>Kolya (1996)</td>\n",
       "      <td>3</td>\n",
       "    </tr>\n",
       "    <tr>\n",
       "      <th>4</th>\n",
       "      <td>306</td>\n",
       "      <td>Kolya (1996)</td>\n",
       "      <td>5</td>\n",
       "    </tr>\n",
       "  </tbody>\n",
       "</table>\n",
       "</div>"
      ],
      "text/plain": [
       "   user_id         title  rating\n",
       "0      196  Kolya (1996)       3\n",
       "1       63  Kolya (1996)       3\n",
       "2      226  Kolya (1996)       5\n",
       "3      154  Kolya (1996)       3\n",
       "4      306  Kolya (1996)       5"
      ]
     },
     "execution_count": 22,
     "metadata": {},
     "output_type": "execute_result"
    }
   ],
   "source": [
    "# Merge movies and ratings dataframes\n",
    "ratings_movies_merged = pd.merge(ratings, movies, on='movie_id')\n",
    "ratings_movies_merged = ratings_movies_merged[['user_id', 'title', 'rating']]\n",
    "ratings_movies_merged.head()\n",
    "\n"
   ]
  },
  {
   "cell_type": "code",
   "execution_count": 24,
   "metadata": {
    "colab": {
     "base_uri": "https://localhost:8080/",
     "height": 449
    },
    "id": "6LkfKilyv5kr",
    "outputId": "17596a90-d45d-4bc8-a3b7-52ddc1a2692e"
   },
   "outputs": [
    {
     "data": {
      "image/png": "[encoded data removed]",
      "text/plain": [
       "<Figure size 600x300 with 1 Axes>"
      ]
     },
     "metadata": {},
     "output_type": "display_data"
    }
   ],
   "source": [
    "# Let's display the genres frequency by movie\n",
    "import matplotlib.pyplot as plt\n",
    "genres_freq = movies.iloc[:, 5:].sum().sort_values(ascending=False)\n",
    "plt.figure(figsize=(6, 3))\n",
    "genres_freq.plot(kind='bar')\n",
    "plt.xlabel('Genre')\n",
    "plt.ylabel('Frequency')\n",
    "plt.title('Frequency of Genres in Movies')\n",
    "plt.show()"
   ]
  },
  {
   "cell_type": "code",
   "execution_count": 26,
   "metadata": {
    "colab": {
     "base_uri": "https://localhost:8080/",
     "height": 460
    },
    "id": "MN2fbEBExpOt",
    "outputId": "dff0a32b-b3c2-4ca6-a7e2-66d846a296d5"
   },
   "outputs": [
    {
     "data": {
      "image/png": "[encoded data removed]",
      "text/plain": [
       "<Figure size 1400x400 with 2 Axes>"
      ]
     },
     "metadata": {},
     "output_type": "display_data"
    }
   ],
   "source": [
    "# Let's count the number or rated movies by the top 30 users\n",
    "top_30_users = ratings['user_id'].value_counts().head(30)\n",
    "bottom_30_users = ratings['user_id'].value_counts().tail(30)\n",
    "# define 2 subplots to display one chart next to the other\n",
    "fig, axs = plt.subplots(1, 2, figsize=(14, 4))\n",
    "top_30_users.plot(kind='bar', ax=axs[0])\n",
    "bottom_30_users.plot(kind='bar', ax=axs[1])\n",
    "plt.suptitle('Number of Rated Movies by the Users')\n",
    "axs[0].set_xlabel('User ID')\n",
    "axs[0].set_ylabel('Number of Rated Movies')\n",
    "axs[0].set_title('Top 30 Users')\n",
    "axs[1].set_xlabel('User ID')\n",
    "axs[1].set_ylabel('Number of Rated Movies')\n",
    "axs[1].set_title('Bottom 30 Users')\n",
    "min_y = 0\n",
    "max_y = max(axs[0].get_ylim()[1], axs[1].get_ylim()[1])\n",
    "axs[0].set_ylim([min_y, max_y])\n",
    "axs[1].set_ylim([min_y, max_y])\n",
    "plt.show()\n"
   ]
  },
  {
   "cell_type": "code",
   "execution_count": 28,
   "metadata": {
    "colab": {
     "base_uri": "https://localhost:8080/"
    },
    "id": "ywEkCHYUGDr0",
    "outputId": "9d4f87b1-892d-43ed-ce63-dae40fbecaa4"
   },
   "outputs": [
    {
     "name": "stdout",
     "output_type": "stream",
     "text": [
      "Duplicate Movies in Dataset:\n",
      "267                 Chasing Amy (1997)\n",
      "302                 Ulee's Gold (1997)\n",
      "347          Desperate Measures (1998)\n",
      "499               Fly Away Home (1996)\n",
      "669              Body Snatchers (1993)\n",
      "679          Kull the Conqueror (1997)\n",
      "864              Ice Storm, The (1997)\n",
      "880                 Money Talks (1997)\n",
      "1002             That Darn Cat! (1997)\n",
      "1256    Designated Mourner, The (1997)\n",
      "1605                   Deceiver (1997)\n",
      "1606          Hurricane Streets (1998)\n",
      "1616                  Hugo Pool (1997)\n",
      "1624                 Nightwatch (1997)\n",
      "1649           Butcher Boy, The (1998)\n",
      "1653      Chairman of the Board (1998)\n",
      "1657     Substance of Fire, The (1996)\n",
      "1679              Sliding Doors (1998)\n",
      "Name: title, dtype: object\n"
     ]
    }
   ],
   "source": [
    "# We detected duplicate movie titles\n",
    "duplicate_movies = movies[movies['title'].duplicated()]\n",
    "print(\"Duplicate Movies in Dataset:\")\n",
    "print(duplicate_movies['title'])"
   ]
  },
  {
   "cell_type": "code",
   "execution_count": 30,
   "metadata": {
    "colab": {
     "base_uri": "https://localhost:8080/"
    },
    "id": "hj5ysA_yGYD0",
    "outputId": "04113956-1d10-4852-989d-b184b62617a0"
   },
   "outputs": [
    {
     "name": "stdout",
     "output_type": "stream",
     "text": [
      "(1664, 24)\n"
     ]
    }
   ],
   "source": [
    "# Remove duplicate movie titles\n",
    "# (to avoid problems with the recommendation functions: not unique titles and reindexing errors)\n",
    "movies = movies.drop_duplicates(subset='title', keep='first').reset_index(drop=True)\n",
    "print(movies.shape)"
   ]
  },
  {
   "cell_type": "markdown",
   "metadata": {
    "id": "_U44W0TMT3qf"
   },
   "source": [
    "As mentioned in the introduction, content-Based Filtering is a recommendation engine approach that focuses on the attributes or features of items (products, movies, music, articles, etc.) and leverages these features to make personalized recommendations. The underlying idea is to match the characteristics of items with the preferences of users to suggest items that align with their interests. Content-based filtering is particularly useful when explicit user-item interactions (e.g., ratings or purchases) are sparse or unavailable.\n",
    "\n",
    "**Key Steps in Content-Based Filtering:**\n",
    "\n",
    "1. **Feature Extraction:**\n",
    "   - For each item, relevant features are extracted. These features are typically descriptive attributes that can be represented numerically, such as genre, director, actors, author, publication date, and keywords.\n",
    "   - In the case of text-based items, natural language processing techniques may be used to extract features like TF-IDF (Term Frequency-Inverse Document Frequency) scores.\n",
    "\n",
    "2. **User Profile Creation:**\n",
    "   - A user profile is created based on the items they have interacted with in the past. The user profile contains the weighted importance of features based on their interactions.\n",
    "   - For example, if a user has watched several action movies, the action genre feature would receive a higher weight in their profile.\n",
    "\n",
    "3. **Similarity Calculation:**\n",
    "   - The similarity between items or between items and the user profile is calculated using similarity metrics like cosine similarity, Euclidean distance, or Pearson correlation.\n",
    "   - Cosine similarity is commonly used as it measures the cosine of the angle between two vectors, which represents their similarity.\n",
    "\n",
    "4. **Recommendation:**\n",
    "   - Items that are most similar to the user profile are recommended to the user. These are items whose features have the highest similarity scores with the user profile.\n",
    "   - The recommended items are presented as a list sorted by their similarity scores.\n",
    "\n",
    "**Advantages of Content-Based Filtering:**\n",
    "1. **No Cold-Start Problem:** Content-based filtering can make recommendations even for new users with no historical interactions because it relies on item features rather than user history.\n",
    "\n",
    "2. **User Independence:** The recommendations are based solely on the features of items and do not require knowledge of other users' preferences or behavior.\n",
    "\n",
    "3. **Transparency:** Content-based recommendations are interpretable, as they depend on the features of items, making it easier for users to understand why specific items are recommended.\n",
    "\n",
    "4. **Serendipity:** Content-based filtering can recommend items with characteristics not seen before by the user, leading to serendipitous discoveries.\n",
    "\n",
    "5. **Diversity in Recommendations:** The method can offer diverse recommendations since it suggests items with different feature combinations.\n",
    "\n",
    "**Limitations of Content-Based Filtering:**\n",
    "1. **Limited Discovery:** Content-based filtering may struggle to recommend items outside the scope of users' historical interactions or interests.\n",
    "\n",
    "2. **Over-Specialization:** Users may receive recommendations that are too similar to their previous choices, leading to a lack of exposure to new item categories.\n",
    "\n",
    "3. **Dependency on Feature Quality:** The quality and relevance of item features significantly influence the quality of recommendations.\n",
    "\n",
    "4. **Limited for Cold Items:** Content-based filtering can struggle to recommend new items with limited feature information."
   ]
  },
  {
   "cell_type": "markdown",
   "metadata": {
    "id": "sbJGD7j7Ui-8"
   },
   "source": [
    "Here is your task:\n",
    "\n",
    "1. Write a function that takes in a user id and the dataframe you created before that contains 'user_id', 'title', and 'rating'. The function should return content-based recommendations for this user. Here are steps you can take:\n",
    "\n",
    "  A. Get the user's rated movies\n",
    "\n",
    "  B. Create a TF-IDF matrix using movie genres. Note, this can be extracted from the `movies` dataframe.\n",
    "\n",
    "  C. Compute the cosine similarity between movie genres. Use the [cosine_similarity](https://scikit-learn.org/stable/modules/generated/sklearn.metrics.pairwise.cosine_similarity.html) function.\n",
    "\n",
    "  D. Get the indices of similar movies to those rated by the user based on cosine similarity. Keep only the top 5.\n",
    "\n",
    "  E. Remove duplicates and movies already rated by the user."
   ]
  },
  {
   "cell_type": "code",
   "execution_count": 47,
   "metadata": {
    "colab": {
     "base_uri": "https://localhost:8080/"
    },
    "id": "JwBQSC-POTzn",
    "outputId": "4fe1f445-6782-4ade-f15c-dc80bec3b30b"
   },
   "outputs": [
    {
     "name": "stdout",
     "output_type": "stream",
     "text": [
      "Top 5 Recommendations for user 10:\n",
      "title\n",
      "Á köldum klaka (Cold Fever) (1994)    0.330346\n",
      "Beat the Devil (1954)                 0.330346\n",
      "Inkwell, The (1994)                   0.330346\n",
      "Paper, The (1994)                     0.330346\n",
      "Big Squeeze, The (1996)               0.330346\n",
      "dtype: float64\n"
     ]
    }
   ],
   "source": [
    "from sklearn.feature_extraction.text import TfidfTransformer\n",
    "from sklearn.metrics.pairwise import cosine_similarity\n",
    "\n",
    "# Content-Based Filtering using Movie Genres\n",
    "def content_based_recommendation(user_id, df):\n",
    "\n",
    "  # Get the user's rated movies\n",
    "  user_rated_movies = df[df['user_id'] == user_id]\n",
    "\n",
    "  # Create a TF-IDF matrix using movie genres\n",
    "  genre_columns = movies.columns[5:]\n",
    "  genre_data = movies[genre_columns]\n",
    "  tfidf_transformer = TfidfTransformer()\n",
    "  tfidf_matrix = tfidf_transformer.fit_transform(genre_data)\n",
    "  tfidf_df = pd.DataFrame(tfidf_matrix.toarray(), columns=genre_columns, index=movies['title'])\n",
    "  \n",
    "  # # Compute the cosine similarity between movie genres\n",
    "  cosine_similarity_matrix = cosine_similarity(tfidf_df, tfidf_df)\n",
    "  cosine_similarity_df = pd.DataFrame(cosine_similarity_matrix, index=movies['title'], columns=movies['title'])\n",
    "  \n",
    "  # Get the indices of the similar movies based on cosine similarity\n",
    "  similar_movies = []\n",
    "\n",
    "  for title in user_rated_movies['title']:\n",
    "    if title in cosine_similarity_df.index:\n",
    "      similar_scores = cosine_similarity_df[title]\n",
    "      similar_movies.append(similar_scores)\n",
    "\n",
    "  # Concatenate into a single Series\n",
    "  similar_movies = pd.concat(similar_movies)\n",
    "\n",
    "  # Aggregate scores (sum) and sort\n",
    "  similar_movies = similar_movies.groupby(similar_movies.index)\n",
    "  similar_movies = similar_movies.mean().sort_values(ascending=False)\n",
    "\n",
    "  # Remove duplicates and movies already rated by the user\n",
    "  rated_movie_titles = set(user_rated_movies['title'])  # Movies rated by the user\n",
    "  recommendations = similar_movies[~similar_movies.index.isin(rated_movie_titles)].head(5)\n",
    "\n",
    "  # We detected duplicated movie titles, then we avoid duplicates\n",
    "  recommendations = recommendations[~recommendations.index.duplicated(keep='first')]\n",
    "\n",
    "  return recommendations\n",
    "\n",
    "# Call the function\n",
    "user = 10\n",
    "recommendations = content_based_recommendation(user, ratings_movies_merged)\n",
    "print(f\"Top 5 Recommendations for user {user}:\")\n",
    "print(recommendations)"
   ]
  },
  {
   "cell_type": "markdown",
   "metadata": {
    "id": "2NNt3gHLYDxU"
   },
   "source": [
    "The key idea behind collaborative filtering is that users who have agreed in the past will likely agree in the future. Instead of relying on item attributes or user profiles, collaborative filtering identifies patterns of user behavior and item preferences from the interactions present in the data.\n",
    "\n",
    "**Types of Collaborative Filtering:**\n",
    "There are two main types of collaborative filtering:\n",
    "\n",
    "**Collaborative Filtering Process:**\n",
    "The collaborative filtering process typically involves the following steps:\n",
    "\n",
    "1. **Data Collection:**\n",
    "   - Gather data on user-item interactions, such as movie ratings, product purchases, or article clicks.\n",
    "\n",
    "2. **User-Item Matrix:**\n",
    "   - Organize the data into a user-item matrix, where rows represent users, columns represent items, and the entries contain the users' interactions (e.g., ratings).\n",
    "\n",
    "3. **Similarity Calculation:**\n",
    "   - Calculate the similarity between users or items using similarity metrics such as cosine similarity, Pearson correlation, or Jaccard similarity.\n",
    "   - For user-based collaborative filtering, user similarities are calculated, and for item-based collaborative filtering, item similarities are calculated.\n",
    "\n",
    "4. **Neighborhood Selection:**\n",
    "   - For each user or item, select the most similar users or items as the neighborhood.\n",
    "   - The size of the neighborhood (the number of similar users or items to consider) is an important parameter to control the system's behavior.\n",
    "\n",
    "5. **Prediction Generation:**\n",
    "   - Predict the ratings for items that the target user has not yet interacted with by combining the ratings of neighboring users or items.\n",
    "\n",
    "6. **Recommendation Generation:**\n",
    "   - Recommend items with the highest predicted ratings to the target user.\n",
    "\n",
    "**Advantages of Collaborative Filtering using User-Item Interactions:**\n",
    "- Collaborative filtering is based solely on user interactions and does not require knowledge of item attributes, making it useful for cases where item data is sparse or unavailable.\n",
    "- It can provide serendipitous recommendations, suggesting items that users may not have discovered on their own.\n",
    "- Collaborative filtering can be applied in various domains, including e-commerce, music, movie, and content recommendations.\n",
    "\n",
    "**Limitations of Collaborative Filtering:**\n",
    "- The cold-start problem: Collaborative filtering struggles to recommend to new users or items with no or limited interaction history.\n",
    "- It may suffer from sparsity when data is limited or when users have only interacted with a small subset of items.\n",
    "- Scalability issues can arise with large datasets and an increasing number of users or items."
   ]
  },
  {
   "cell_type": "markdown",
   "metadata": {
    "id": "ks4mWyCaYVNY"
   },
   "source": [
    "Here is your task:\n",
    "\n",
    "1. Write a function that takes in a user id and the dataframe you created before that contains 'user_id', 'title', and 'rating'. The function should return collaborative filtering recommendations for this user based on a user-item interaction matrix. Here are steps you can take:\n",
    "\n",
    "  A. Create the user-item matrix using Pandas' [pivot_table](https://pandas.pydata.org/docs/reference/api/pandas.pivot_table.html).\n",
    "\n",
    "  B. Fill missing values with zeros in this matrix.\n",
    "\n",
    "  C. Calculate user-user similarity matrix using cosine similarity.\n",
    "\n",
    "  D. Get the array of similarity scores of the target user with all other users from the similarity matrix.\n",
    "\n",
    "  E. Extract, say the the top 5 most similar users (excluding the target user).\n",
    "\n",
    "  F. Generate movie recommendations based on the most similar users.\n",
    "\n",
    "  G. Remove duplicate movies recommendations."
   ]
  },
  {
   "cell_type": "code",
   "execution_count": 51,
   "metadata": {
    "colab": {
     "base_uri": "https://localhost:8080/"
    },
    "id": "BqZPgKRDWf-c",
    "outputId": "76d13d1e-7971-40c4-92a6-19f397bb458d"
   },
   "outputs": [
    {
     "name": "stdout",
     "output_type": "stream",
     "text": [
      "Top 5 Recommendations for user 10:\n",
      "title\n",
      "Godfather: Part II, The (1974)    4.4\n",
      "To Catch a Thief (1955)           4.4\n",
      "Blade Runner (1982)               4.2\n",
      "To Kill a Mockingbird (1962)      4.2\n",
      "This Is Spinal Tap (1984)         4.2\n",
      "dtype: float64\n"
     ]
    }
   ],
   "source": [
    "# Collaborative Filtering using User-Item Interactions\n",
    "def collaborative_filtering_recommendation(user_id, df):\n",
    "\n",
    "  # Create the user-item matrix\n",
    "  user_item_matrix = df.pivot_table(index='user_id', columns='title', values='rating')\n",
    "  \n",
    "  # Fill missing values with 0 (indicating no rating)\n",
    "  user_item_matrix = user_item_matrix.fillna(0)\n",
    "  \n",
    "  # Calculate user-user similarity matrix using cosine similarity\n",
    "  cosine_similarity_matrix = cosine_similarity(user_item_matrix, user_item_matrix)\n",
    "  cosine_similarity_df = pd.DataFrame(cosine_similarity_matrix, index=user_item_matrix.index, columns=user_item_matrix.index)\n",
    "  \n",
    "  # Get the similarity scores of the target user with all other users\n",
    "  target_user_similarity = cosine_similarity_df.loc[user_id]\n",
    "\n",
    "  # Find the top N most similar users (excluding the target user)\n",
    "  most_similar_users = target_user_similarity.drop(index=user_id).nlargest(5)\n",
    "  \n",
    "  # Generate movie recommendations based on the most similar users\n",
    "  similar_users_ratings = user_item_matrix.loc[most_similar_users.index]\n",
    "  \n",
    "  recommended_movies = similar_users_ratings.mean(axis=0)\n",
    "\n",
    "  # Remove duplicates from recommendations\n",
    "  target_user_rated_movies = user_item_matrix.loc[user_id]\n",
    "  recommended_movies = recommended_movies[target_user_rated_movies == 0]\n",
    "\n",
    "  top_recommendations = recommended_movies.sort_values(ascending=False).head(5)\n",
    "\n",
    "  # We detected duplicated movie titles, then we avoid duplicates\n",
    "  top_recommendations = top_recommendations[~top_recommendations.index.duplicated(keep='first')]\n",
    "\n",
    "  return top_recommendations\n",
    "\n",
    "# Call the function\n",
    "user = 10\n",
    "recommendations = collaborative_filtering_recommendation(user, ratings_movies_merged)\n",
    "print(f\"Top 5 Recommendations for user {user}:\")\n",
    "print(recommendations)\n"
   ]
  },
  {
   "cell_type": "markdown",
   "metadata": {
    "id": "-Jj883VAZRNe"
   },
   "source": [
    "#### Now, test your recommendations engines! Select a few user ids and generate recommendations using both functions you've written. Are the recommendations similar? Do the recommendations make sense?"
   ]
  },
  {
   "cell_type": "code",
   "execution_count": 54,
   "metadata": {
    "id": "kt9nuOTNJXz8"
   },
   "outputs": [],
   "source": [
    "# Test the recommendation engines\n",
    "\n",
    "def compare_recommendations(user_ids, df):\n",
    "  for user_id in user_ids:\n",
    "    print(f\"Recommendations for User {user_id}:\")\n",
    "\n",
    "    # Content-based filtering\n",
    "    content_based_recommendations = content_based_recommendation(user_id, df)\n",
    "    print(\"\\nContent-Based Recommendations:\")\n",
    "    print(content_based_recommendations)\n",
    "\n",
    "    # Collaborative filtering\n",
    "    collaborative_filtering_recommendations = collaborative_filtering_recommendation(user_id, df)\n",
    "    print(\"\\nCollaborative Filtering Recommendations:\")\n",
    "    print(collaborative_filtering_recommendations)\n",
    "\n",
    "    # Compare Results\n",
    "    overlap = set(content_based_recommendations.index).intersection(set(collaborative_filtering_recommendations.index))\n",
    "    print(\"\\nOverlap in Recommendations:\")\n",
    "    print(overlap)\n",
    "    print(\"-\"*50)\n"
   ]
  },
  {
   "cell_type": "code",
   "execution_count": 56,
   "metadata": {
    "colab": {
     "base_uri": "https://localhost:8080/"
    },
    "id": "mTqixYq8BYSt",
    "outputId": "ca7bda70-9427-4d30-8a7d-326a1033d255"
   },
   "outputs": [
    {
     "name": "stdout",
     "output_type": "stream",
     "text": [
      "Recommendations for User 596:\n",
      "\n",
      "Content-Based Recommendations:\n",
      "title\n",
      "Smilla's Sense of Snow (1997)    0.380245\n",
      "Tough and Deadly (1995)          0.380245\n",
      "Outbreak (1995)                  0.380245\n",
      "Condition Red (1995)             0.380245\n",
      "Mercury Rising (1998)            0.380245\n",
      "dtype: float64\n",
      "\n",
      "Collaborative Filtering Recommendations:\n",
      "title\n",
      "Saint, The (1997)               2.6\n",
      "Devil's Own, The (1997)         2.0\n",
      "Devil's Advocate, The (1997)    2.0\n",
      "In & Out (1997)                 2.0\n",
      "Starship Troopers (1997)        1.8\n",
      "dtype: float64\n",
      "\n",
      "Overlap in Recommendations:\n",
      "set()\n",
      "--------------------------------------------------\n",
      "Recommendations for User 5:\n",
      "\n",
      "Content-Based Recommendations:\n",
      "title\n",
      "Army of Darkness (1993)                0.344960\n",
      "Evil Dead II (1987)                    0.330734\n",
      "Get Shorty (1995)                      0.329743\n",
      "Faster Pussycat! Kill! Kill! (1965)    0.329743\n",
      "Cowboy Way, The (1994)                 0.321922\n",
      "dtype: float64\n",
      "\n",
      "Collaborative Filtering Recommendations:\n",
      "title\n",
      "Real Genius (1985)        4.2\n",
      "Terminator, The (1984)    4.0\n",
      "Jurassic Park (1993)      3.6\n",
      "Casablanca (1942)         3.6\n",
      "Brazil (1985)             3.6\n",
      "dtype: float64\n",
      "\n",
      "Overlap in Recommendations:\n",
      "set()\n",
      "--------------------------------------------------\n",
      "Recommendations for User 10:\n",
      "\n",
      "Content-Based Recommendations:\n",
      "title\n",
      "Á köldum klaka (Cold Fever) (1994)    0.330346\n",
      "Beat the Devil (1954)                 0.330346\n",
      "Inkwell, The (1994)                   0.330346\n",
      "Paper, The (1994)                     0.330346\n",
      "Big Squeeze, The (1996)               0.330346\n",
      "dtype: float64\n",
      "\n",
      "Collaborative Filtering Recommendations:\n",
      "title\n",
      "Godfather: Part II, The (1974)    4.4\n",
      "To Catch a Thief (1955)           4.4\n",
      "Blade Runner (1982)               4.2\n",
      "To Kill a Mockingbird (1962)      4.2\n",
      "This Is Spinal Tap (1984)         4.2\n",
      "dtype: float64\n",
      "\n",
      "Overlap in Recommendations:\n",
      "set()\n",
      "--------------------------------------------------\n",
      "Recommendations for User 450:\n",
      "\n",
      "Content-Based Recommendations:\n",
      "title\n",
      "What Happened Was... (1994)    0.369693\n",
      "Manhattan (1979)               0.369693\n",
      "Wings of Desire (1987)         0.369693\n",
      "I Like It Like That (1994)     0.369693\n",
      "Stefano Quantestorie (1993)    0.367238\n",
      "dtype: float64\n",
      "\n",
      "Collaborative Filtering Recommendations:\n",
      "title\n",
      "Boot, Das (1981)             4.8\n",
      "Crimson Tide (1995)          3.8\n",
      "Babe (1995)                  3.6\n",
      "This Is Spinal Tap (1984)    3.6\n",
      "39 Steps, The (1935)         3.4\n",
      "dtype: float64\n",
      "\n",
      "Overlap in Recommendations:\n",
      "set()\n",
      "--------------------------------------------------\n",
      "Recommendations for User 7:\n",
      "\n",
      "Content-Based Recommendations:\n",
      "title\n",
      "Faster Pussycat! Kill! Kill! (1965)    0.273372\n",
      "House of Yes, The (1997)               0.261852\n",
      "Tough and Deadly (1995)                0.256085\n",
      "Hostile Intentions (1994)              0.256085\n",
      "Mercury Rising (1998)                  0.256085\n",
      "dtype: float64\n",
      "\n",
      "Collaborative Filtering Recommendations:\n",
      "title\n",
      "Singin' in the Rain (1952)    3.6\n",
      "Toy Story (1995)              3.6\n",
      "Rock, The (1996)              3.4\n",
      "Big Sleep, The (1946)         3.4\n",
      "Aladdin (1992)                3.4\n",
      "dtype: float64\n",
      "\n",
      "Overlap in Recommendations:\n",
      "set()\n",
      "--------------------------------------------------\n",
      "Recommendations for User 631:\n",
      "\n",
      "Content-Based Recommendations:\n",
      "title\n",
      "House of Yes, The (1997)    0.376545\n",
      "Professional, The (1994)    0.345692\n",
      "Bound (1996)                0.345692\n",
      "To Catch a Thief (1955)     0.345081\n",
      "Ghost (1990)                0.345081\n",
      "dtype: float64\n",
      "\n",
      "Collaborative Filtering Recommendations:\n",
      "title\n",
      "Air Force One (1997)           4.4\n",
      "Tomorrow Never Dies (1997)     4.0\n",
      "Seven Years in Tibet (1997)    4.0\n",
      "Conspiracy Theory (1997)       3.0\n",
      "Amistad (1997)                 2.4\n",
      "dtype: float64\n",
      "\n",
      "Overlap in Recommendations:\n",
      "set()\n",
      "--------------------------------------------------\n",
      "Recommendations for User 418:\n",
      "\n",
      "Content-Based Recommendations:\n",
      "title\n",
      "House of Yes, The (1997)                   0.362330\n",
      "Some Folks Call It a Sling Blade (1993)    0.353777\n",
      "Dolores Claiborne (1994)                   0.353777\n",
      "Loaded (1994)                              0.353777\n",
      "Death and the Maiden (1994)                0.353777\n",
      "dtype: float64\n",
      "\n",
      "Collaborative Filtering Recommendations:\n",
      "title\n",
      "Good Will Hunting (1997)        4.0\n",
      "Rainmaker, The (1997)           2.8\n",
      "Dante's Peak (1997)             2.2\n",
      "Devil's Advocate, The (1997)    2.2\n",
      "Wag the Dog (1997)              2.2\n",
      "dtype: float64\n",
      "\n",
      "Overlap in Recommendations:\n",
      "set()\n",
      "--------------------------------------------------\n"
     ]
    }
   ],
   "source": [
    "# Test the comparison function for a few users\n",
    "regular_users = [596, 5, 10]\n",
    "top_30_users = [450, 7]\n",
    "bottom_30_users = [631, 418]\n",
    "selected_users = regular_users + top_30_users + bottom_30_users\n",
    "compare_recommendations(selected_users, ratings_movies_merged)"
   ]
  },
  {
   "cell_type": "markdown",
   "metadata": {
    "id": "fVD9shdCMk9a"
   },
   "source": [
    "**Are the recommendations similar?**\n",
    "\n",
    "No, the recommendations from the content-based filtering and collaborative filtering approaches are not similar. There is no overlap between the two sets of recommendations for any of the tested users.\n",
    "\n",
    "Although, this lack of overlap is expected because content-based filtering recommends movies based on similar genres to those already rated by the user, and collaborative filtering recommends movies that were highly rated by other users with similar behaviour (similar ratings). Therefore, since the two approaches use fundamentally different logic and data, we can expect that they often produce entirely different results.\n",
    "\n",
    "**Do the recommendations make sense?**\n",
    "\n",
    "Yes, the recommendations make sense for both methods when analyzed individually:\n",
    "1. Content-Based Filtering:\n",
    "The recommended movies align with the genres of the movies already rated by the user. For example, if a user rated action or thriller movies, the recommendations include other movies from these genres. This demonstrates that the content-based approach successfully identifies similar content.\n",
    "2. Collaborative Filtering:\n",
    "The recommended movies reflect the preferences of users show are most similar to the target user. These recommendations ofter include popular or well-rated movies among similar users, even if the genres differ from the user's previously rated movies.\n",
    "\n",
    "All in all, content-based filtering works well for users with consistent genre preferences. Collaborative filtering provides diversity by introducing movies outside the user's typical genres based on user similarity.\n",
    "\n",
    "\n",
    "\n"
   ]
  }
 ],
 "metadata": {
  "colab": {
   "provenance": []
  },
  "kernelspec": {
   "display_name": "Python 3 (ipykernel)",
   "language": "python",
   "name": "python3"
  },
  "language_info": {
   "codemirror_mode": {
    "name": "ipython",
    "version": 3
   },
   "file_extension": ".py",
   "mimetype": "text/x-python",
   "name": "python",
   "nbconvert_exporter": "python",
   "pygments_lexer": "ipython3",
   "version": "3.11.7"
  }
 },
 "nbformat": 4,
 "nbformat_minor": 4
}
